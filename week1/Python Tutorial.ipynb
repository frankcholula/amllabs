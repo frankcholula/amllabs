{
  "cells": [
    {
      "cell_type": "markdown",
      "metadata": {
        "id": "dzNng6vCL9eP"
      },
      "source": [
        "<H1 style=\"text-align: center\">EEEM068 - Applied Machine Learning</H1>\n",
        "<H1 style=\"text-align: center\">Workshop 01</H1>\n",
        "<H1 style=\"text-align: center\">Python Tutorial</H1>\n"
      ]
    },
    {
      "cell_type": "markdown",
      "metadata": {
        "id": "qVrTo-LhL9eS"
      },
      "source": [
        "##Introduction"
      ]
    },
    {
      "cell_type": "markdown",
      "metadata": {
        "id": "9t1gKp9PL9eV"
      },
      "source": [
        "Python is a great general purpose programming language on its own, but with the help of a few popular libraries, such as numpy, scipy, matplotlib it becomes a powerful environment for scientific computing.\n",
        "\n",
        "We expect that many of you to have some experience with Python and numpy. Nevertheless, for the rest of you, this tutorial will serve as a quick crash course both on the Python programming language and on the use of Python for scientific computing.\n",
        "\n",
        "Some of you may have previous knowledge in Matlab, in which case we also recommend the [NumPy for Matlab users](https://numpy.org/doc/stable/user/numpy-for-matlab-users.html) page."
      ]
    },
    {
      "cell_type": "markdown",
      "metadata": {
        "id": "U1PvreR9L9eW"
      },
      "source": [
        "In this tutorial, we will cover:\n",
        "\n",
        "* Basic Python: Basic data types (Containers, Lists, Dictionaries, Sets, Tuples), Functions, Classes\n",
        "* Numpy: Arrays, Array indexing, Datatypes, Array math, Broadcasting\n",
        "* Matplotlib: Plotting, Subplots, Images\n",
        "* Scikit-learn: Toy dataset, Classifier, Confusion matrix, Regressor\n",
        "* OpenCV: Image, Image representation, Colour and datatype conversion, Image processing\n",
        "* SciPy: I/O of MATLAB files, Distance functions"
      ]
    },
    {
      "cell_type": "markdown",
      "source": [
        "## Python Versions"
      ],
      "metadata": {
        "id": "-O99OrwPtGii"
      }
    },
    {
      "cell_type": "markdown",
      "metadata": {
        "id": "nxvEkGXPM3Xh"
      },
      "source": [
        "Please note that as of February 2025, Colab is using Python 3.11.11. Therefore, we will be using Python 3.11 for this iteration of the course. More details on Python 3.11 can be found in the [documentation](https://docs.python.org/3.11/tutorial/index.html). You can check your Python version at the command line by running `python --version`."
      ]
    },
    {
      "cell_type": "code",
      "execution_count": null,
      "metadata": {
        "id": "1L4Am0QATgOc"
      },
      "outputs": [],
      "source": [
        "!python --version"
      ]
    },
    {
      "cell_type": "markdown",
      "metadata": {
        "id": "JAFKYgrpL9eY"
      },
      "source": [
        "##Basics of Python"
      ]
    },
    {
      "cell_type": "markdown",
      "metadata": {
        "id": "RbFS6tdgL9ea"
      },
      "source": [
        "Python is an easy to learn, high-level, dynamically typed multiparadigm programming language. Python code is often said to be almost like pseudocode, since it allows you to express very powerful ideas in very few lines of code while being very readable. As an example, here is an implementation of the classic quicksort algorithm in Python:"
      ]
    },
    {
      "cell_type": "code",
      "execution_count": null,
      "metadata": {
        "id": "cYb0pjh1L9eb"
      },
      "outputs": [],
      "source": [
        "def quicksort(arr):\n",
        "    if len(arr) <= 1:\n",
        "        return arr\n",
        "    pivot = arr[len(arr) // 2]\n",
        "    left = [x for x in arr if x < pivot]\n",
        "    middle = [x for x in arr if x == pivot]\n",
        "    right = [x for x in arr if x > pivot]\n",
        "    return quicksort(left) + middle + quicksort(right)\n",
        "\n",
        "print(quicksort([3,6,8,10,1,2,1]))"
      ]
    },
    {
      "cell_type": "markdown",
      "metadata": {
        "id": "NwS_hu4xL9eo"
      },
      "source": [
        "###Basic data types"
      ]
    },
    {
      "cell_type": "markdown",
      "metadata": {
        "id": "DL5sMSZ9L9eq"
      },
      "source": [
        "####Numbers"
      ]
    },
    {
      "cell_type": "markdown",
      "metadata": {
        "id": "MGS0XEWoL9er"
      },
      "source": [
        "Integers and floats work as you would expect from other languages:"
      ]
    },
    {
      "cell_type": "code",
      "execution_count": null,
      "metadata": {
        "id": "KheDr_zDL9es"
      },
      "outputs": [],
      "source": [
        "x = 3\n",
        "print(x, type(x))"
      ]
    },
    {
      "cell_type": "code",
      "execution_count": null,
      "metadata": {
        "id": "sk_8DFcuL9ey"
      },
      "outputs": [],
      "source": [
        "print(x + 1)   # Addition\n",
        "print(x - 1)   # Subtraction\n",
        "print(x * 2)   # Multiplication\n",
        "print(x ** 2)  # Exponentiation"
      ]
    },
    {
      "cell_type": "code",
      "execution_count": null,
      "metadata": {
        "id": "U4Jl8K0tL9e4"
      },
      "outputs": [],
      "source": [
        "x += 1\n",
        "print(x)\n",
        "x *= 2\n",
        "print(x)"
      ]
    },
    {
      "cell_type": "code",
      "execution_count": null,
      "metadata": {
        "id": "w-nZ0Sg_L9e9"
      },
      "outputs": [],
      "source": [
        "y = 2.5\n",
        "print(type(y))\n",
        "print(y, y + 1, y * 2, y ** 2)"
      ]
    },
    {
      "cell_type": "markdown",
      "metadata": {
        "id": "r2A9ApyaL9fB"
      },
      "source": [
        "Note that unlike many languages (such as C and C++) Python does not have unary increment (x++) or decrement (x--) operators.\n",
        "\n",
        "Python also has built-in types for long integers and complex numbers; you can find all of the details in the [documentation](https://docs.python.org/3.8/library/stdtypes.html#numeric-types-int-float-long-complex)."
      ]
    },
    {
      "cell_type": "markdown",
      "metadata": {
        "id": "EqRS7qhBL9fC"
      },
      "source": [
        "####Booleans"
      ]
    },
    {
      "cell_type": "markdown",
      "metadata": {
        "id": "Nv_LIVOJL9fD"
      },
      "source": [
        "Python implements all of the usual operators for Boolean logic, but uses English words rather than symbols (`&&`, `||`, etc.):"
      ]
    },
    {
      "cell_type": "code",
      "execution_count": null,
      "metadata": {
        "id": "RvoImwgGL9fE"
      },
      "outputs": [],
      "source": [
        "t, f = True, False\n",
        "print(type(t))"
      ]
    },
    {
      "cell_type": "markdown",
      "metadata": {
        "id": "YQgmQfOgL9fI"
      },
      "source": [
        "Now we let's look at the operations:"
      ]
    },
    {
      "cell_type": "code",
      "execution_count": null,
      "metadata": {
        "id": "6zYm7WzCL9fK"
      },
      "outputs": [],
      "source": [
        "print(t and f) # Logical AND;\n",
        "print(t or f)  # Logical OR;\n",
        "print(not t)   # Logical NOT;\n",
        "print(t != f)  # Logical XOR;"
      ]
    },
    {
      "cell_type": "markdown",
      "metadata": {
        "id": "UQnQWFEyL9fP"
      },
      "source": [
        "####Strings"
      ]
    },
    {
      "cell_type": "code",
      "execution_count": null,
      "metadata": {
        "id": "AijEDtPFL9fP"
      },
      "outputs": [],
      "source": [
        "hello = 'hello'   # String literals can use single quotes\n",
        "world = \"world\"   # or double quotes; it does not matter\n",
        "print(hello, len(hello))"
      ]
    },
    {
      "cell_type": "code",
      "execution_count": null,
      "metadata": {
        "id": "saDeaA7hL9fT"
      },
      "outputs": [],
      "source": [
        "hw = hello + ' ' + world  # String concatenation\n",
        "print(hw)"
      ]
    },
    {
      "cell_type": "code",
      "execution_count": null,
      "metadata": {
        "id": "Nji1_UjYL9fY"
      },
      "outputs": [],
      "source": [
        "hw12 = '{} {} {}'.format(hello, world, 12)  # string formatting\n",
        "print(hw12)"
      ]
    },
    {
      "cell_type": "markdown",
      "metadata": {
        "id": "bUpl35bIL9fc"
      },
      "source": [
        "String objects have a bunch of useful methods; for example:"
      ]
    },
    {
      "cell_type": "code",
      "execution_count": null,
      "metadata": {
        "id": "VOxGatlsL9fd"
      },
      "outputs": [],
      "source": [
        "s = \"hello\"\n",
        "print(s.capitalize())  # Capitalize a string\n",
        "print(s.upper())       # Convert a string to uppercase; prints \"HELLO\"\n",
        "print(s.rjust(7))      # Right-justify a string, padding with spaces\n",
        "print(s.center(7))     # Center a string, padding with spaces\n",
        "print(s.replace('l', '(ell)'))  # Replace all instances of one substring with another\n",
        "print('  world '.strip())  # Strip leading and trailing whitespace"
      ]
    },
    {
      "cell_type": "markdown",
      "metadata": {
        "id": "06cayXLtL9fi"
      },
      "source": [
        "You can find a list of all string methods in the [documentation](https://docs.python.org/3.7/library/stdtypes.html#string-methods)."
      ]
    },
    {
      "cell_type": "markdown",
      "metadata": {
        "id": "p-6hClFjL9fk"
      },
      "source": [
        "###Containers"
      ]
    },
    {
      "cell_type": "markdown",
      "metadata": {
        "id": "FD9H18eQL9fk"
      },
      "source": [
        "Python includes several built-in container types: lists, dictionaries, sets, and tuples."
      ]
    },
    {
      "cell_type": "markdown",
      "metadata": {
        "id": "UsIWOe0LL9fn"
      },
      "source": [
        "####Lists"
      ]
    },
    {
      "cell_type": "markdown",
      "metadata": {
        "id": "wzxX7rgWL9fn"
      },
      "source": [
        "A list is the Python equivalent of an array, but is resizeable and can contain elements of different types:"
      ]
    },
    {
      "cell_type": "code",
      "execution_count": null,
      "metadata": {
        "id": "hk3A8pPcL9fp"
      },
      "outputs": [],
      "source": [
        "xs = [3, 1, 2]   # Create a list\n",
        "print(xs, xs[2])\n",
        "print(xs[-1])    # Negative indices count from the end of the list; prints \"2\""
      ]
    },
    {
      "cell_type": "code",
      "execution_count": null,
      "metadata": {
        "id": "YCjCy_0_L9ft"
      },
      "outputs": [],
      "source": [
        "xs[2] = 'foo'    # Lists can be heterogeneous, i.e. it can contain elements of different types\n",
        "print(xs)"
      ]
    },
    {
      "cell_type": "code",
      "execution_count": null,
      "metadata": {
        "id": "vJ0x5cF-L9fx"
      },
      "outputs": [],
      "source": [
        "xs.append('bar') # Add a new element to the end of the list\n",
        "print(xs)"
      ]
    },
    {
      "cell_type": "code",
      "execution_count": null,
      "metadata": {
        "id": "cxVCNRTNL9f1"
      },
      "outputs": [],
      "source": [
        "x = xs.pop()     # Remove and return the last element of the list\n",
        "print(x, xs)"
      ]
    },
    {
      "cell_type": "markdown",
      "metadata": {
        "id": "ilyoyO34L9f4"
      },
      "source": [
        "As usual, you can find all the gory details about lists in the [documentation](https://docs.python.org/3.7/tutorial/datastructures.html#more-on-lists)."
      ]
    },
    {
      "cell_type": "markdown",
      "metadata": {
        "id": "ovahhxd_L9f5"
      },
      "source": [
        "####Slicing"
      ]
    },
    {
      "cell_type": "markdown",
      "metadata": {
        "id": "YeSYKhv9L9f6"
      },
      "source": [
        "In addition to accessing list elements one at a time, Python provides concise syntax to access sublists; this is known as slicing:"
      ]
    },
    {
      "cell_type": "code",
      "execution_count": null,
      "metadata": {
        "id": "ninq666bL9f6"
      },
      "outputs": [],
      "source": [
        "nums = list(range(5))   # range is a built-in function that creates a list of integers\n",
        "print(nums)             # Prints \"[0, 1, 2, 3, 4]\"\n",
        "print(nums[2:4])        # Get a slice from index 2 to 4 (exclusive); prints \"[2, 3]\"\n",
        "print(nums[2:])         # Get a slice from index 2 to the end; prints \"[2, 3, 4]\"\n",
        "print(nums[:2])         # Get a slice from the start to index 2 (exclusive); prints \"[0, 1]\"\n",
        "print(nums[:])          # Get a slice of the whole list; prints [\"0, 1, 2, 3, 4]\"\n",
        "print(nums[:-1])        # Slice indices can be negative; prints [\"0, 1, 2, 3]\"\n",
        "nums[2:4] = [8, 9]      # Assign a new sublist to a slice\n",
        "print(nums)             # Prints \"[0, 1, 8, 9, 4]\""
      ]
    },
    {
      "cell_type": "markdown",
      "metadata": {
        "id": "arrLCcMyL9gK"
      },
      "source": [
        "####List comprehensions:"
      ]
    },
    {
      "cell_type": "markdown",
      "metadata": {
        "id": "5Qn2jU_pL9gL"
      },
      "source": [
        "When programming, frequently we want to transform one type of data into another. As a simple example, consider the following code that computes square numbers:"
      ]
    },
    {
      "cell_type": "code",
      "execution_count": null,
      "metadata": {
        "id": "IVNEwoMXL9gL"
      },
      "outputs": [],
      "source": [
        "nums = [0, 1, 2, 3, 4]\n",
        "squares = []\n",
        "for x in nums:\n",
        "    squares.append(x ** 2)\n",
        "print(squares)"
      ]
    },
    {
      "cell_type": "markdown",
      "metadata": {
        "id": "7DmKVUFaL9gQ"
      },
      "source": [
        "You can make this code simpler using a list comprehension:"
      ]
    },
    {
      "cell_type": "code",
      "execution_count": null,
      "metadata": {
        "id": "kZxsUfV6L9gR"
      },
      "outputs": [],
      "source": [
        "nums = [0, 1, 2, 3, 4]\n",
        "squares = [x ** 2 for x in nums]\n",
        "print(squares)"
      ]
    },
    {
      "cell_type": "markdown",
      "metadata": {
        "id": "-D8ARK7tL9gV"
      },
      "source": [
        "List comprehensions can also contain conditions:"
      ]
    },
    {
      "cell_type": "code",
      "execution_count": null,
      "metadata": {
        "id": "yUtgOyyYL9gV"
      },
      "outputs": [],
      "source": [
        "nums = [0, 1, 2, 3, 4]\n",
        "even_squares = [x ** 2 for x in nums if x % 2 == 0]\n",
        "print(even_squares)"
      ]
    },
    {
      "cell_type": "markdown",
      "metadata": {
        "id": "H8xsUEFpL9gZ"
      },
      "source": [
        "####Dictionaries"
      ]
    },
    {
      "cell_type": "markdown",
      "metadata": {
        "id": "kkjAGMAJL9ga"
      },
      "source": [
        "A dictionary stores (key, value) pairs, similar to a `Map` in Java or an object in Javascript. You can use it like this:"
      ]
    },
    {
      "cell_type": "code",
      "execution_count": null,
      "metadata": {
        "id": "XBYI1MrYL9gb"
      },
      "outputs": [],
      "source": [
        "d = {'cat': 'cute', 'dog': 'furry'}     # Create a new dictionary with some data\n",
        "print(d['cat'])                         # Get an entry from a dictionary; prints \"cute\"\n",
        "print('cat' in d)                       # Check if a dictionary has a given key; prints \"True\""
      ]
    },
    {
      "cell_type": "code",
      "execution_count": null,
      "metadata": {
        "id": "pS7e-G-HL9gf"
      },
      "outputs": [],
      "source": [
        "d['fish'] = 'wet'   # Set an entry in a dictionary\n",
        "print(d['fish'])    # Prints \"wet\""
      ]
    },
    {
      "cell_type": "code",
      "execution_count": null,
      "metadata": {
        "id": "tFY065ItL9gi"
      },
      "outputs": [],
      "source": [
        "print(d['monkey'])  # KeyError: 'monkey' not a key of d"
      ]
    },
    {
      "cell_type": "code",
      "execution_count": null,
      "metadata": {
        "id": "8TjbEWqML9gl"
      },
      "outputs": [],
      "source": [
        "print(d.get('monkey', 'N/A'))  # Get an element with a default; prints \"N/A\"\n",
        "print(d.get('fish', 'N/A'))    # Get an element with a default; prints \"wet\""
      ]
    },
    {
      "cell_type": "code",
      "execution_count": null,
      "metadata": {
        "id": "0EItdNBJL9go"
      },
      "outputs": [],
      "source": [
        "del d['fish']               # Remove an element from a dictionary\n",
        "print(d.get('fish', 'N/A')) # \"fish\" is no longer a key; prints \"N/A\""
      ]
    },
    {
      "cell_type": "markdown",
      "metadata": {
        "id": "wqm4dRZNL9gr"
      },
      "source": [
        "You can find all you need to know about dictionaries in the [documentation](https://docs.python.org/2/library/stdtypes.html#dict)."
      ]
    },
    {
      "cell_type": "markdown",
      "metadata": {
        "id": "IxwEqHlGL9gr"
      },
      "source": [
        "It is easy to iterate over the keys in a dictionary:"
      ]
    },
    {
      "cell_type": "code",
      "execution_count": null,
      "metadata": {
        "id": "rYfz7ZKNL9gs"
      },
      "outputs": [],
      "source": [
        "d = {'person': 2, 'cat': 4, 'spider': 8}\n",
        "for animal, legs in d.items():\n",
        "    print('A {} has {} legs'.format(animal, legs))"
      ]
    },
    {
      "cell_type": "markdown",
      "metadata": {
        "id": "17sxiOpzL9gz"
      },
      "source": [
        "Dictionary comprehensions: These are similar to list comprehensions, but allow you to easily construct dictionaries. For example:"
      ]
    },
    {
      "cell_type": "code",
      "execution_count": null,
      "metadata": {
        "id": "8PB07imLL9gz"
      },
      "outputs": [],
      "source": [
        "nums = [0, 1, 2, 3, 4]\n",
        "even_num_to_square = {x: x ** 2 for x in nums if x % 2 == 0}\n",
        "print(even_num_to_square)"
      ]
    },
    {
      "cell_type": "markdown",
      "metadata": {
        "id": "V9MHfUdvL9g2"
      },
      "source": [
        "####Sets"
      ]
    },
    {
      "cell_type": "markdown",
      "metadata": {
        "id": "Rpm4UtNpL9g2"
      },
      "source": [
        "A set is an unordered collection of distinct elements. As a simple example, consider the following:"
      ]
    },
    {
      "cell_type": "code",
      "execution_count": null,
      "metadata": {
        "id": "MmyaniLsL9g2"
      },
      "outputs": [],
      "source": [
        "animals = {'cat', 'dog'}\n",
        "print('cat' in animals)   # Check if an element is in a set; prints \"True\"\n",
        "print('fish' in animals)  # prints \"False\"\n"
      ]
    },
    {
      "cell_type": "code",
      "execution_count": null,
      "metadata": {
        "id": "ElJEyK86L9g6"
      },
      "outputs": [],
      "source": [
        "animals.add('fish')      # Add an element to a set\n",
        "print('fish' in animals)\n",
        "print(len(animals))       # Number of elements in a set;"
      ]
    },
    {
      "cell_type": "code",
      "execution_count": null,
      "metadata": {
        "id": "5uGmrxdPL9g9"
      },
      "outputs": [],
      "source": [
        "animals.add('cat')       # Adding an element that is already in the set does nothing\n",
        "print(len(animals))\n",
        "animals.remove('cat')    # Remove an element from a set\n",
        "print(len(animals))"
      ]
    },
    {
      "cell_type": "markdown",
      "metadata": {
        "id": "zk2DbvLKL9g_"
      },
      "source": [
        "_Loops_: Iterating over a set has the same syntax as iterating over a list; however since sets are unordered, you cannot make assumptions about the order in which you visit the elements of the set:"
      ]
    },
    {
      "cell_type": "code",
      "execution_count": null,
      "metadata": {
        "id": "K47KYNGyL9hA"
      },
      "outputs": [],
      "source": [
        "animals = {'cat', 'dog', 'fish'}\n",
        "for idx, animal in enumerate(animals):\n",
        "    print('#{}: {}'.format(idx + 1, animal))"
      ]
    },
    {
      "cell_type": "markdown",
      "metadata": {
        "id": "puq4S8buL9hC"
      },
      "source": [
        "Set comprehensions: Like lists and dictionaries, we can easily construct sets using set comprehensions:"
      ]
    },
    {
      "cell_type": "code",
      "execution_count": null,
      "metadata": {
        "id": "iw7k90k3L9hC"
      },
      "outputs": [],
      "source": [
        "from math import sqrt\n",
        "print({int(sqrt(x)) for x in range(30)})"
      ]
    },
    {
      "cell_type": "markdown",
      "metadata": {
        "id": "qPsHSKB1L9hF"
      },
      "source": [
        "####Tuples"
      ]
    },
    {
      "cell_type": "markdown",
      "metadata": {
        "id": "kucc0LKVL9hG"
      },
      "source": [
        "A tuple is an (immutable) ordered list of values. A tuple is in many ways similar to a list; one of the most important differences is that tuples can be used as keys in dictionaries and as elements of sets, while lists cannot. Here is a trivial example:"
      ]
    },
    {
      "cell_type": "code",
      "execution_count": null,
      "metadata": {
        "id": "9wHUyTKxL9hH"
      },
      "outputs": [],
      "source": [
        "d = {(x, x + 1): x for x in range(10)}  # Create a dictionary with tuple keys\n",
        "t = (5, 6)       # Create a tuple\n",
        "print(type(t))\n",
        "print(d[t])\n",
        "print(d[(1, 2)])"
      ]
    },
    {
      "cell_type": "markdown",
      "source": [
        "##Loops"
      ],
      "metadata": {
        "id": "iFON3Tm0CfIg"
      }
    },
    {
      "cell_type": "markdown",
      "source": [
        "###`for` loop"
      ],
      "metadata": {
        "id": "7aXUmwT69XqK"
      }
    },
    {
      "cell_type": "markdown",
      "metadata": {
        "id": "_DYz1j6QL9f_"
      },
      "source": [
        "You can loop over the elements of a list like this:"
      ]
    },
    {
      "cell_type": "code",
      "execution_count": null,
      "metadata": {
        "id": "4cCOysfWL9gA"
      },
      "outputs": [],
      "source": [
        "animals = ['cat', 'dog', 'monkey']\n",
        "for animal in animals:\n",
        "    print(animal)"
      ]
    },
    {
      "cell_type": "markdown",
      "metadata": {
        "id": "KxIaQs7pL9gE"
      },
      "source": [
        "If you want access to the index of each element within the body of a loop, use the built-in `enumerate` function:"
      ]
    },
    {
      "cell_type": "code",
      "execution_count": null,
      "metadata": {
        "id": "JjGnDluWL9gF"
      },
      "outputs": [],
      "source": [
        "animals = ['cat', 'dog', 'monkey']\n",
        "for idx, animal in enumerate(animals):\n",
        "    print('#{}: {}'.format(idx + 1, animal))"
      ]
    },
    {
      "cell_type": "markdown",
      "source": [
        "###`range()` function"
      ],
      "metadata": {
        "id": "Tlf5gPRy9jfV"
      }
    },
    {
      "cell_type": "markdown",
      "source": [
        "If you need to iterate over a sequence of numbers, the built-in function `range()` comes in handy. It generates arithmetic progressions:"
      ],
      "metadata": {
        "id": "pzgK4H6j-PyN"
      }
    },
    {
      "cell_type": "code",
      "source": [
        "for i in range(5):\n",
        "    print(i)"
      ],
      "metadata": {
        "id": "eNlqr8sn-TX5"
      },
      "execution_count": null,
      "outputs": []
    },
    {
      "cell_type": "markdown",
      "source": [
        "The given end point is never part of the generated sequence; `range(10)` generates 10 values, the legal indices for items of a sequence of length 10. It is possible to let the range start at another number, or to specify a different increment (even negative; sometimes this is called the ‘step’):"
      ],
      "metadata": {
        "id": "vfigt0cE-fpp"
      }
    },
    {
      "cell_type": "code",
      "source": [
        "print(list(range(5, 10)))\n",
        "print(list(range(0, 10, 3)))\n",
        "print(list(range(-10, -100, -30)))"
      ],
      "metadata": {
        "id": "apwUH4Ar-o4P"
      },
      "execution_count": null,
      "outputs": []
    },
    {
      "cell_type": "markdown",
      "source": [
        "###`while` loop"
      ],
      "metadata": {
        "id": "mezbBTJqCmZy"
      }
    },
    {
      "cell_type": "markdown",
      "source": [
        "With the `while` loop we can execute a set of statements as long as a condition is true."
      ],
      "metadata": {
        "id": "A5qN9PZTCuvS"
      }
    },
    {
      "cell_type": "code",
      "source": [
        "i = 1\n",
        "while i < 6:\n",
        "  print(i)\n",
        "  i += 1"
      ],
      "metadata": {
        "id": "T0NbKi1hCyCE"
      },
      "execution_count": null,
      "outputs": []
    },
    {
      "cell_type": "markdown",
      "source": [
        "## Control Flow Tools"
      ],
      "metadata": {
        "id": "uBXI2gMx9Dno"
      }
    },
    {
      "cell_type": "markdown",
      "source": [
        "###`if` statement"
      ],
      "metadata": {
        "id": "q6aeyPu39PPC"
      }
    },
    {
      "cell_type": "markdown",
      "source": [
        "Perhaps the most well-known statement type is the if statement. There can be zero or more `elif` parts, and the `else` part is optional. The keyword `elif` is short for `else if`, and is useful to avoid excessive indentation. An `if` … `elif` … `elif` … sequence is a substitute for the `switch` or `case` statements found in other languages. For example:"
      ],
      "metadata": {
        "id": "eHUyBp-E_V-x"
      }
    },
    {
      "cell_type": "code",
      "source": [
        "x = int(input(\"Please enter an integer: \"))\n",
        "if x < 0:\n",
        "    x = 0\n",
        "    print('Negative changed to zero')\n",
        "elif x == 0:\n",
        "    print('Zero')\n",
        "elif x == 1:\n",
        "    print('Single')\n",
        "else:\n",
        "    print('More')"
      ],
      "metadata": {
        "id": "nD8ITrA__Z5D"
      },
      "execution_count": null,
      "outputs": []
    },
    {
      "cell_type": "markdown",
      "source": [
        "###`break` and `continue` statements"
      ],
      "metadata": {
        "id": "Y0CBMSRJ9sby"
      }
    },
    {
      "cell_type": "markdown",
      "source": [
        "The `break` statement, like in C, breaks out of the innermost enclosing `for` or `while` loop.\n",
        "\n",
        "Loop statements may have an else clause; it is executed when the loop terminates through exhaustion of the iterable (with `for`) or when the condition becomes false (with `while`), but not when the loop is terminated by a `break` statement. This is exemplified by the following loop, which searches for prime numbers:"
      ],
      "metadata": {
        "id": "XrfS77Kzi91S"
      }
    },
    {
      "cell_type": "code",
      "source": [
        "for n in range(2, 10):\n",
        "    for x in range(2, n):\n",
        "        if n % x == 0:\n",
        "            print(n, 'equals', x, '*', n//x)\n",
        "            break\n",
        "    else:\n",
        "        # loop fell through without finding a factor\n",
        "        print(n, 'is a prime number')"
      ],
      "metadata": {
        "id": "S2XoBEftjaXX"
      },
      "execution_count": null,
      "outputs": []
    },
    {
      "cell_type": "markdown",
      "source": [
        "The `continue` statement, also borrowed from C, continues with the next iteration of the loop:"
      ],
      "metadata": {
        "id": "b5pf2Vdbkl0_"
      }
    },
    {
      "cell_type": "code",
      "source": [
        "for num in range(2, 10):\n",
        "    if num % 2 == 0:\n",
        "        print(\"Found an even number\", num)\n",
        "        continue\n",
        "    print(\"Found an odd number\", num)"
      ],
      "metadata": {
        "id": "swr6-rEwksE2"
      },
      "execution_count": null,
      "outputs": []
    },
    {
      "cell_type": "markdown",
      "source": [
        "###`pass` statement"
      ],
      "metadata": {
        "id": "JVKNnslx95_d"
      }
    },
    {
      "cell_type": "markdown",
      "source": [
        "The `pass` statement does nothing. It can be used when a statement is required syntactically but the program requires no action. For example:"
      ],
      "metadata": {
        "id": "-dZk28jllX6D"
      }
    },
    {
      "cell_type": "code",
      "source": [
        "while True:\n",
        "    pass  # Busy-wait for keyboard interrupt. Please press the stop button to stop execution."
      ],
      "metadata": {
        "id": "DnJfJPkTldUz"
      },
      "execution_count": null,
      "outputs": []
    },
    {
      "cell_type": "markdown",
      "source": [
        "This is commonly used for creating minimal classes:"
      ],
      "metadata": {
        "id": "-tWb6by_lkn3"
      }
    },
    {
      "cell_type": "code",
      "source": [
        "class MyEmptyClass:\n",
        "    pass"
      ],
      "metadata": {
        "id": "57_9LZkplsSz"
      },
      "execution_count": null,
      "outputs": []
    },
    {
      "cell_type": "markdown",
      "source": [
        "Another place `pass` can be used is as a place-holder for a function or conditional body when you are working on new code, allowing you to keep thinking at a more abstract level. The `pass` is silently ignored:"
      ],
      "metadata": {
        "id": "45jdssyFlxqo"
      }
    },
    {
      "cell_type": "code",
      "source": [
        "def initlog(*args):\n",
        "    pass   # Remember to implement this!"
      ],
      "metadata": {
        "id": "0r9Dikptl4-1"
      },
      "execution_count": null,
      "outputs": []
    },
    {
      "cell_type": "markdown",
      "metadata": {
        "id": "AXA4jrEOL9hM"
      },
      "source": [
        "###Functions"
      ]
    },
    {
      "cell_type": "markdown",
      "metadata": {
        "id": "WaRms-QfL9hN"
      },
      "source": [
        "Python functions are defined using the `def` keyword. For example:"
      ]
    },
    {
      "cell_type": "code",
      "execution_count": null,
      "metadata": {
        "id": "kiMDUr58L9hN"
      },
      "outputs": [],
      "source": [
        "def sign(x):\n",
        "    if x > 0:\n",
        "        return 'positive'\n",
        "    elif x < 0:\n",
        "        return 'negative'\n",
        "    else:\n",
        "        return 'zero'\n",
        "\n",
        "for x in [-1, 0, 1]:\n",
        "    print(sign(x))"
      ]
    },
    {
      "cell_type": "markdown",
      "metadata": {
        "id": "U-QJFt8TL9hR"
      },
      "source": [
        "We will often define functions to take optional keyword arguments, like this:"
      ]
    },
    {
      "cell_type": "code",
      "execution_count": null,
      "metadata": {
        "id": "PfsZ3DazL9hR"
      },
      "outputs": [],
      "source": [
        "def hello(name, loud=False):\n",
        "    if loud:\n",
        "        print('HELLO, {}'.format(name.upper()))\n",
        "    else:\n",
        "        print('Hello, {}!'.format(name))\n",
        "\n",
        "hello('Bob')\n",
        "hello('Fred', loud=True)"
      ]
    },
    {
      "cell_type": "markdown",
      "metadata": {
        "id": "ObA9PRtQL9hT"
      },
      "source": [
        "###Classes"
      ]
    },
    {
      "cell_type": "markdown",
      "metadata": {
        "id": "hAzL_lTkL9hU"
      },
      "source": [
        "In object-oriented programming, a class is a template definition of the methods and variables in a particular kind of object. Thus, an object is a specific instance of a class; it contains real values instead of variables. For more details, on class in object oriented programming, please have a look on this [link](https://www.w3schools.com/java/java_oop.asp). The syntax for defining classes in Python is straightforward and can be done as follows."
      ]
    },
    {
      "cell_type": "code",
      "execution_count": null,
      "metadata": {
        "id": "RWdbaGigL9hU"
      },
      "outputs": [],
      "source": [
        "class Greeter:\n",
        "\n",
        "    # Constructor\n",
        "    def __init__(self, name):\n",
        "        self.name = name  # Create an instance variable\n",
        "\n",
        "    # Instance method\n",
        "    def greet(self, loud=False):\n",
        "        if loud:\n",
        "          print('HELLO, {}'.format(self.name.upper()))\n",
        "        else:\n",
        "          print('Hello, {}!'.format(self.name))\n",
        "\n",
        "g = Greeter('Fred')  # Construct an instance of the Greeter class\n",
        "g.greet()            # Call an instance method; prints \"Hello, Fred\"\n",
        "g.greet(loud=True)   # Call an instance method; prints \"HELLO, FRED!\""
      ]
    },
    {
      "cell_type": "markdown",
      "metadata": {
        "id": "3cfrOV4dL9hW"
      },
      "source": [
        "##Numpy"
      ]
    },
    {
      "cell_type": "markdown",
      "metadata": {
        "id": "fY12nHhyL9hX"
      },
      "source": [
        "Numpy is the core library for scientific computing in Python. It provides a high-performance multidimensional array object, and tools for working with these arrays. If you are already familiar with MATLAB, you might find this [tutorial](http://wiki.scipy.org/NumPy_for_Matlab_Users) useful to get started with Numpy. To use Numpy, we first need to import the `numpy` package."
      ]
    },
    {
      "cell_type": "markdown",
      "source": [
        "### Importing a package"
      ],
      "metadata": {
        "id": "2_lpLqwZpd-4"
      }
    },
    {
      "cell_type": "markdown",
      "source": [
        "In Python, a package or a module can be imported in many different ways, some of which are shown below. For more details, please have a look on this [documentation](https://docs.python.org/3/tutorial/modules.html#more-on-modules).\n",
        "\n",
        "\n",
        "```\n",
        "import numpy            # import numpy, one can use it as numpy\n",
        "import numpy as np      # import numpy and call it np\n",
        "from numpy import *     # import all the modules from numpy\n",
        "from numpy import sum   # import the \"sum\" function from numpy\n",
        "```\n",
        "\n"
      ],
      "metadata": {
        "id": "hMmlsjljBbVE"
      }
    },
    {
      "cell_type": "code",
      "execution_count": null,
      "metadata": {
        "id": "58QdX8BLL9hZ"
      },
      "outputs": [],
      "source": [
        "import numpy as np  # import numpy and call it np. So the sum function of numpy can be called as np.sum()"
      ]
    },
    {
      "cell_type": "markdown",
      "metadata": {
        "id": "DDx6v1EdL9hb"
      },
      "source": [
        "###Arrays"
      ]
    },
    {
      "cell_type": "markdown",
      "metadata": {
        "id": "f-Zv3f7LL9hc"
      },
      "source": [
        "A numpy array is a grid of values, all of the same type, and is indexed by a tuple of nonnegative integers. The number of dimensions is the rank of the array; the shape of an array is a tuple of integers giving the size of the array along each dimension."
      ]
    },
    {
      "cell_type": "markdown",
      "metadata": {
        "id": "_eMTRnZRL9hc"
      },
      "source": [
        "We can initialize numpy arrays from nested Python lists, and access elements using square brackets:"
      ]
    },
    {
      "cell_type": "code",
      "execution_count": null,
      "metadata": {
        "id": "-l3JrGxCL9hc"
      },
      "outputs": [],
      "source": [
        "a = np.array([1, 2, 3])  # Create a rank 1 array\n",
        "print(type(a), a.shape, a[0], a[1], a[2])\n",
        "a[0] = 5                 # Change an element of the array\n",
        "print(a)"
      ]
    },
    {
      "cell_type": "code",
      "execution_count": null,
      "metadata": {
        "id": "ma6mk-kdL9hh"
      },
      "outputs": [],
      "source": [
        "b = np.array([[1,2,3],[4,5,6]])   # Create a rank 2 array\n",
        "print(b)"
      ]
    },
    {
      "cell_type": "code",
      "execution_count": null,
      "metadata": {
        "id": "ymfSHAwtL9hj"
      },
      "outputs": [],
      "source": [
        "print(b.shape)\n",
        "print(b[0, 0], b[0, 1], b[1, 0])"
      ]
    },
    {
      "cell_type": "markdown",
      "metadata": {
        "id": "F2qwdyvuL9hn"
      },
      "source": [
        "Numpy also provides many functions to create arrays:"
      ]
    },
    {
      "cell_type": "code",
      "execution_count": null,
      "metadata": {
        "id": "mVTN_EBqL9hn"
      },
      "outputs": [],
      "source": [
        "a = np.zeros((2,2))  # Create an array of all zeros\n",
        "print(a)"
      ]
    },
    {
      "cell_type": "code",
      "execution_count": null,
      "metadata": {
        "id": "skiKlNmlL9h5"
      },
      "outputs": [],
      "source": [
        "b = np.ones((1,2))   # Create an array of all ones\n",
        "print(b)"
      ]
    },
    {
      "cell_type": "code",
      "execution_count": null,
      "metadata": {
        "id": "HtFsr03bL9h7"
      },
      "outputs": [],
      "source": [
        "c = np.full((2,2), 7) # Create a constant array\n",
        "print(c)"
      ]
    },
    {
      "cell_type": "code",
      "execution_count": null,
      "metadata": {
        "id": "-QcALHvkL9h9"
      },
      "outputs": [],
      "source": [
        "d = np.eye(2)        # Create a 2x2 identity matrix\n",
        "print(d)"
      ]
    },
    {
      "cell_type": "code",
      "execution_count": null,
      "metadata": {
        "id": "RCpaYg9qL9iA"
      },
      "outputs": [],
      "source": [
        "e = np.random.random((2,2)) # Create an array filled with random values\n",
        "print(e)"
      ]
    },
    {
      "cell_type": "markdown",
      "metadata": {
        "id": "jI5qcSDfL9iC"
      },
      "source": [
        "###Array indexing"
      ]
    },
    {
      "cell_type": "markdown",
      "metadata": {
        "id": "M-E4MUeVL9iC"
      },
      "source": [
        "Numpy offers several ways to index into arrays.\n",
        "\n",
        "Slicing: Similar to Python lists, numpy arrays can be sliced. Since arrays may be multidimensional, you must specify a slice for each dimension of the array:"
      ]
    },
    {
      "cell_type": "code",
      "execution_count": null,
      "metadata": {
        "id": "wLWA0udwL9iD"
      },
      "outputs": [],
      "source": [
        "import numpy as np\n",
        "\n",
        "# Create the following rank 2 array with shape (3, 4)\n",
        "# [[ 1  2  3  4]\n",
        "#  [ 5  6  7  8]\n",
        "#  [ 9 10 11 12]]\n",
        "a = np.array([[1,2,3,4], [5,6,7,8], [9,10,11,12]])\n",
        "\n",
        "# Use slicing to pull out the subarray consisting of the first 2 rows\n",
        "# and columns 1 and 2; b is the following array of shape (2, 2):\n",
        "# [[2 3]\n",
        "#  [6 7]]\n",
        "b = a[:2, 1:3]\n",
        "print(b)"
      ]
    },
    {
      "cell_type": "markdown",
      "metadata": {
        "id": "KahhtZKYL9iF"
      },
      "source": [
        "A slice of an array is a view into the same data, so modifying it will modify the original array."
      ]
    },
    {
      "cell_type": "code",
      "execution_count": null,
      "metadata": {
        "id": "1kmtaFHuL9iG"
      },
      "outputs": [],
      "source": [
        "print(a[0, 1])\n",
        "b[0, 0] = 77    # b[0, 0] is the same piece of data as a[0, 1]\n",
        "print(a[0, 1])"
      ]
    },
    {
      "cell_type": "markdown",
      "metadata": {
        "id": "_Zcf3zi-L9iI"
      },
      "source": [
        "You can also mix integer indexing with slice indexing. However, doing so will yield an array of lower rank than the original array. Note that this is quite different from the way that MATLAB handles array slicing:"
      ]
    },
    {
      "cell_type": "code",
      "execution_count": null,
      "metadata": {
        "id": "G6lfbPuxL9iJ"
      },
      "outputs": [],
      "source": [
        "# Create the following rank 2 array with shape (3, 4)\n",
        "a = np.array([[1,2,3,4], [5,6,7,8], [9,10,11,12]])\n",
        "print(a)"
      ]
    },
    {
      "cell_type": "markdown",
      "metadata": {
        "id": "NCye3NXhL9iL"
      },
      "source": [
        "Two ways of accessing the data in the middle row of the array.\n",
        "Mixing integer indexing with slices yields an array of lower rank,\n",
        "while using only slices yields an array of the same rank as the\n",
        "original array:"
      ]
    },
    {
      "cell_type": "code",
      "execution_count": null,
      "metadata": {
        "id": "EOiEMsmNL9iL"
      },
      "outputs": [],
      "source": [
        "row_r1 = a[1, :]    # Rank 1 view of the second row of a\n",
        "row_r2 = a[1:2, :]  # Rank 2 view of the second row of a\n",
        "row_r3 = a[[1], :]  # Rank 2 view of the second row of a\n",
        "print(row_r1, row_r1.shape)\n",
        "print(row_r2, row_r2.shape)\n",
        "print(row_r3, row_r3.shape)"
      ]
    },
    {
      "cell_type": "code",
      "execution_count": null,
      "metadata": {
        "id": "JXu73pfDL9iN"
      },
      "outputs": [],
      "source": [
        "# We can make the same distinction when accessing columns of an array:\n",
        "col_r1 = a[:, 1]\n",
        "col_r2 = a[:, 1:2]\n",
        "print(col_r1, col_r1.shape)\n",
        "print()\n",
        "print(col_r2, col_r2.shape)"
      ]
    },
    {
      "cell_type": "markdown",
      "metadata": {
        "id": "VP3916bOL9iP"
      },
      "source": [
        "Integer array indexing: When you index into numpy arrays using slicing, the resulting array view will always be a subarray of the original array. In contrast, integer array indexing allows you to construct arbitrary arrays using the data from another array. Here is an example:"
      ]
    },
    {
      "cell_type": "code",
      "execution_count": null,
      "metadata": {
        "id": "TBnWonIDL9iP"
      },
      "outputs": [],
      "source": [
        "a = np.array([[1,2], [3, 4], [5, 6]])\n",
        "\n",
        "# An example of integer array indexing.\n",
        "# The returned array will have shape (3,) and\n",
        "print(a[[0, 1, 2], [0, 1, 0]])\n",
        "\n",
        "# The above example of integer array indexing is equivalent to this:\n",
        "print(np.array([a[0, 0], a[1, 1], a[2, 0]]))"
      ]
    },
    {
      "cell_type": "code",
      "execution_count": null,
      "metadata": {
        "id": "n7vuati-L9iR"
      },
      "outputs": [],
      "source": [
        "# When using integer array indexing, you can reuse the same\n",
        "# element from the source array:\n",
        "print(a[[0, 0], [1, 1]])\n",
        "\n",
        "# Equivalent to the previous integer array indexing example\n",
        "print(np.array([a[0, 1], a[0, 1]]))"
      ]
    },
    {
      "cell_type": "markdown",
      "metadata": {
        "id": "kaipSLafL9iU"
      },
      "source": [
        "One useful trick with integer array indexing is selecting or mutating one element from each row of a matrix:"
      ]
    },
    {
      "cell_type": "code",
      "execution_count": null,
      "metadata": {
        "id": "ehqsV7TXL9iU"
      },
      "outputs": [],
      "source": [
        "# Create a new array from which we will select elements\n",
        "a = np.array([[1,2,3], [4,5,6], [7,8,9], [10, 11, 12]])\n",
        "print(a)"
      ]
    },
    {
      "cell_type": "code",
      "execution_count": null,
      "metadata": {
        "id": "pAPOoqy5L9iV"
      },
      "outputs": [],
      "source": [
        "# Create an array of indices\n",
        "b = np.array([0, 2, 0, 1])\n",
        "\n",
        "# Select one element from each row of a using the indices in b\n",
        "print(a[np.arange(4), b])  # Prints \"[ 1  6  7 11]\""
      ]
    },
    {
      "cell_type": "code",
      "execution_count": null,
      "metadata": {
        "id": "6v1PdI1DL9ib"
      },
      "outputs": [],
      "source": [
        "# Mutate one element from each row of a using the indices in b\n",
        "a[np.arange(4), b] += 10\n",
        "print(a)"
      ]
    },
    {
      "cell_type": "markdown",
      "metadata": {
        "id": "kaE8dBGgL9id"
      },
      "source": [
        "Boolean array indexing: Boolean array indexing lets you pick out arbitrary elements of an array. Frequently this type of indexing is used to select the elements of an array that satisfy some condition. Here is an example:"
      ]
    },
    {
      "cell_type": "code",
      "execution_count": null,
      "metadata": {
        "id": "32PusjtKL9id"
      },
      "outputs": [],
      "source": [
        "import numpy as np\n",
        "\n",
        "a = np.array([[1,2], [3, 4], [5, 6]])\n",
        "\n",
        "bool_idx = (a > 2)  # Find the elements of a that are bigger than 2;\n",
        "                    # this returns a numpy array of Booleans of the same\n",
        "                    # shape as a, where each slot of bool_idx tells\n",
        "                    # whether that element of a is > 2.\n",
        "\n",
        "print(bool_idx)"
      ]
    },
    {
      "cell_type": "code",
      "execution_count": null,
      "metadata": {
        "id": "cb2IRMXaL9if"
      },
      "outputs": [],
      "source": [
        "# We use boolean array indexing to construct a rank 1 array\n",
        "# consisting of the elements of a corresponding to the True values\n",
        "# of bool_idx\n",
        "print(a[bool_idx])\n",
        "\n",
        "# We can do all of the above in a single concise statement:\n",
        "print(a[a > 2])"
      ]
    },
    {
      "cell_type": "markdown",
      "metadata": {
        "id": "CdofMonAL9ih"
      },
      "source": [
        "For brevity we have left out a lot of details about numpy array indexing; if you want to know more you should read the documentation."
      ]
    },
    {
      "cell_type": "markdown",
      "metadata": {
        "id": "jTctwqdQL9ih"
      },
      "source": [
        "###Datatypes"
      ]
    },
    {
      "cell_type": "markdown",
      "metadata": {
        "id": "kSZQ1WkIL9ih"
      },
      "source": [
        "Every numpy array is a grid of elements of the same type. Numpy provides a large set of numeric datatypes that you can use to construct arrays. Numpy tries to guess a datatype when you create an array, but functions that construct arrays usually also include an optional argument to explicitly specify the datatype. Here is an example:"
      ]
    },
    {
      "cell_type": "code",
      "execution_count": null,
      "metadata": {
        "id": "4za4O0m5L9ih"
      },
      "outputs": [],
      "source": [
        "x = np.array([1, 2])  # Let numpy choose the datatype\n",
        "y = np.array([1.0, 2.0])  # Let numpy choose the datatype\n",
        "z = np.array([1, 2], dtype=np.int64)  # Force a particular datatype\n",
        "\n",
        "print(x.dtype, y.dtype, z.dtype)"
      ]
    },
    {
      "cell_type": "markdown",
      "metadata": {
        "id": "RLVIsZQpL9ik"
      },
      "source": [
        "You can read all about numpy datatypes in the [documentation](http://docs.scipy.org/doc/numpy/reference/arrays.dtypes.html)."
      ]
    },
    {
      "cell_type": "markdown",
      "metadata": {
        "id": "TuB-fdhIL9ik"
      },
      "source": [
        "###Array math"
      ]
    },
    {
      "cell_type": "markdown",
      "metadata": {
        "id": "18e8V8elL9ik"
      },
      "source": [
        "Basic mathematical functions operate elementwise on arrays, and are available both as operator overloads and as functions in the numpy module:"
      ]
    },
    {
      "cell_type": "code",
      "execution_count": null,
      "metadata": {
        "id": "gHKvBrSKL9il"
      },
      "outputs": [],
      "source": [
        "x = np.array([[1,2],[3,4]], dtype=np.float64)\n",
        "y = np.array([[5,6],[7,8]], dtype=np.float64)\n",
        "\n",
        "# Elementwise sum; both produce the array\n",
        "print(x + y)\n",
        "print(np.add(x, y))"
      ]
    },
    {
      "cell_type": "code",
      "execution_count": null,
      "metadata": {
        "id": "1fZtIAMxL9in"
      },
      "outputs": [],
      "source": [
        "# Elementwise difference; both produce the array\n",
        "print(x - y)\n",
        "print(np.subtract(x, y))"
      ]
    },
    {
      "cell_type": "code",
      "execution_count": null,
      "metadata": {
        "id": "nil4AScML9io"
      },
      "outputs": [],
      "source": [
        "# Elementwise product; both produce the array\n",
        "print(x * y)\n",
        "print(np.multiply(x, y))"
      ]
    },
    {
      "cell_type": "code",
      "execution_count": null,
      "metadata": {
        "id": "0JoA4lH6L9ip"
      },
      "outputs": [],
      "source": [
        "# Elementwise division; both produce the array\n",
        "# [[ 0.2         0.33333333]\n",
        "#  [ 0.42857143  0.5       ]]\n",
        "print(x / y)\n",
        "print(np.divide(x, y))"
      ]
    },
    {
      "cell_type": "code",
      "execution_count": null,
      "metadata": {
        "id": "g0iZuA6bL9ir"
      },
      "outputs": [],
      "source": [
        "# Elementwise square root; produces the array\n",
        "# [[ 1.          1.41421356]\n",
        "#  [ 1.73205081  2.        ]]\n",
        "print(np.sqrt(x))"
      ]
    },
    {
      "cell_type": "markdown",
      "metadata": {
        "id": "a5d_uujuL9it"
      },
      "source": [
        "Note that unlike MATLAB, `*` is elementwise multiplication, not matrix multiplication. We instead use the dot function to compute inner products of vectors, to multiply a vector by a matrix, and to multiply matrices. dot is available both as a function in the numpy module and as an instance method of array objects:"
      ]
    },
    {
      "cell_type": "code",
      "execution_count": null,
      "metadata": {
        "id": "I3FnmoSeL9iu"
      },
      "outputs": [],
      "source": [
        "x = np.array([[1,2],[3,4]])\n",
        "y = np.array([[5,6],[7,8]])\n",
        "\n",
        "v = np.array([9, 10])\n",
        "w = np.array([11, 12])\n",
        "\n",
        "# Inner product of vectors; both produce 219\n",
        "print(v.dot(w))\n",
        "print(np.dot(v, w))"
      ]
    },
    {
      "cell_type": "markdown",
      "metadata": {
        "id": "vmxPbrHASVeA"
      },
      "source": [
        "You can also use the `@` operator which is equivalent to numpy's `dot` operator."
      ]
    },
    {
      "cell_type": "code",
      "execution_count": null,
      "metadata": {
        "id": "vyrWA-mXSdtt"
      },
      "outputs": [],
      "source": [
        "print(v @ w)"
      ]
    },
    {
      "cell_type": "code",
      "execution_count": null,
      "metadata": {
        "id": "zvUODeTxL9iw"
      },
      "outputs": [],
      "source": [
        "# Matrix / vector product; both produce the rank 1 array [29 67]\n",
        "print(x.dot(v))\n",
        "print(np.dot(x, v))\n",
        "print(x @ v)"
      ]
    },
    {
      "cell_type": "code",
      "execution_count": null,
      "metadata": {
        "id": "3V_3NzNEL9iy"
      },
      "outputs": [],
      "source": [
        "# Matrix / matrix product; both produce the rank 2 array\n",
        "# [[19 22]\n",
        "#  [43 50]]\n",
        "print(x.dot(y))\n",
        "print(np.dot(x, y))\n",
        "print(x @ y)"
      ]
    },
    {
      "cell_type": "markdown",
      "metadata": {
        "id": "FbE-1If_L9i0"
      },
      "source": [
        "Numpy provides many useful functions for performing computations on arrays; one of the most useful is `sum`:"
      ]
    },
    {
      "cell_type": "code",
      "execution_count": null,
      "metadata": {
        "id": "DZUdZvPrL9i0"
      },
      "outputs": [],
      "source": [
        "x = np.array([[1,2],[3,4]])\n",
        "\n",
        "print(np.sum(x))  # Compute sum of all elements; prints \"10\"\n",
        "print(np.sum(x, axis=0))  # Compute sum of each column; prints \"[4 6]\"\n",
        "print(np.sum(x, axis=1))  # Compute sum of each row; prints \"[3 7]\""
      ]
    },
    {
      "cell_type": "markdown",
      "metadata": {
        "id": "ahdVW4iUL9i3"
      },
      "source": [
        "You can find the full list of mathematical functions provided by numpy in the [documentation](http://docs.scipy.org/doc/numpy/reference/routines.math.html).\n",
        "\n",
        "Apart from computing mathematical functions using arrays, we frequently need to reshape or otherwise manipulate data in arrays. The simplest example of this type of operation is transposing a matrix; to transpose a matrix, simply use the T attribute of an array object:"
      ]
    },
    {
      "cell_type": "code",
      "execution_count": null,
      "metadata": {
        "id": "63Yl1f3oL9i3"
      },
      "outputs": [],
      "source": [
        "print(x)\n",
        "print(\"transpose\\n\", x.T)"
      ]
    },
    {
      "cell_type": "code",
      "execution_count": null,
      "metadata": {
        "id": "mkk03eNIL9i4"
      },
      "outputs": [],
      "source": [
        "v = np.array([[1,2,3]])\n",
        "print(v )\n",
        "print(\"transpose\\n\", v.T)"
      ]
    },
    {
      "cell_type": "markdown",
      "metadata": {
        "id": "REfLrUTcL9i7"
      },
      "source": [
        "###Broadcasting"
      ]
    },
    {
      "cell_type": "markdown",
      "metadata": {
        "id": "EygGAMWqL9i7"
      },
      "source": [
        "Broadcasting is a powerful mechanism that allows numpy to work with arrays of different shapes when performing arithmetic operations. Frequently we have a smaller array and a larger array, and we want to use the smaller array multiple times to perform some operation on the larger array.\n",
        "\n",
        "For example, suppose that we want to add a constant vector to each row of a matrix. We could do it like this:"
      ]
    },
    {
      "cell_type": "code",
      "execution_count": null,
      "metadata": {
        "id": "WEEvkV1ZL9i7"
      },
      "outputs": [],
      "source": [
        "# We will add the vector v to each row of the matrix x,\n",
        "# storing the result in the matrix y\n",
        "x = np.array([[1,2,3], [4,5,6], [7,8,9], [10, 11, 12]])\n",
        "v = np.array([1, 0, 1])\n",
        "y = np.empty_like(x)   # Create an empty matrix with the same shape as x\n",
        "\n",
        "# Add the vector v to each row of the matrix x with an explicit loop\n",
        "for i in range(4):\n",
        "    y[i, :] = x[i, :] + v\n",
        "\n",
        "print(y)"
      ]
    },
    {
      "cell_type": "markdown",
      "metadata": {
        "id": "2OlXXupEL9i-"
      },
      "source": [
        "This works; however when the matrix `x` is very large, computing an explicit loop in Python could be slow. Note that adding the vector v to each row of the matrix `x` is equivalent to forming a matrix `vv` by stacking multiple copies of `v` vertically, then performing elementwise summation of `x` and `vv`. We could implement this approach like this:"
      ]
    },
    {
      "cell_type": "code",
      "execution_count": null,
      "metadata": {
        "id": "vS7UwAQQL9i-"
      },
      "outputs": [],
      "source": [
        "vv = np.tile(v, (4, 1))  # Stack 4 copies of v on top of each other\n",
        "print(vv)                # Prints \"[[1 0 1]\n",
        "                         #          [1 0 1]\n",
        "                         #          [1 0 1]\n",
        "                         #          [1 0 1]]\""
      ]
    },
    {
      "cell_type": "code",
      "execution_count": null,
      "metadata": {
        "id": "N0hJphSIL9jA"
      },
      "outputs": [],
      "source": [
        "y = x + vv  # Add x and vv elementwise\n",
        "print(y)"
      ]
    },
    {
      "cell_type": "markdown",
      "metadata": {
        "id": "zHos6RJnL9jB"
      },
      "source": [
        "Numpy broadcasting allows us to perform this computation without actually creating multiple copies of v. Consider this version, using broadcasting:"
      ]
    },
    {
      "cell_type": "code",
      "execution_count": null,
      "metadata": {
        "id": "vnYFb-gYL9jC"
      },
      "outputs": [],
      "source": [
        "import numpy as np\n",
        "\n",
        "# We will add the vector v to each row of the matrix x,\n",
        "# storing the result in the matrix y\n",
        "x = np.array([[1,2,3], [4,5,6], [7,8,9], [10, 11, 12]])\n",
        "v = np.array([1, 0, 1])\n",
        "y = x + v  # Add v to each row of x using broadcasting\n",
        "print(y)"
      ]
    },
    {
      "cell_type": "markdown",
      "metadata": {
        "id": "08YyIURKL9jH"
      },
      "source": [
        "The line `y = x + v` works even though `x` has shape `(4, 3)` and `v` has shape `(3,)` due to broadcasting; this line works as if v actually had shape `(4, 3)`, where each row was a copy of `v`, and the sum was performed elementwise.\n",
        "\n",
        "Broadcasting two arrays together follows these rules:\n",
        "\n",
        "1. If the arrays do not have the same rank, prepend the shape of the lower rank array with 1s until both shapes have the same length.\n",
        "2. The two arrays are said to be compatible in a dimension if they have the same size in the dimension, or if one of the arrays has size 1 in that dimension.\n",
        "3. The arrays can be broadcast together if they are compatible in all dimensions.\n",
        "4. After broadcasting, each array behaves as if it had shape equal to the elementwise maximum of shapes of the two input arrays.\n",
        "5. In any dimension where one array had size 1 and the other array had size greater than 1, the first array behaves as if it were copied along that dimension\n",
        "\n",
        "If this explanation does not make sense, try reading the explanation from the [documentation](http://docs.scipy.org/doc/numpy/user/basics.broadcasting.html) or this [explanation](http://wiki.scipy.org/EricsBroadcastingDoc).\n",
        "\n",
        "Functions that support broadcasting are known as universal functions. You can find the list of all universal functions in the [documentation](http://docs.scipy.org/doc/numpy/reference/ufuncs.html#available-ufuncs).\n",
        "\n",
        "Here are some applications of broadcasting:"
      ]
    },
    {
      "cell_type": "code",
      "execution_count": null,
      "metadata": {
        "id": "EmQnwoM9L9jH"
      },
      "outputs": [],
      "source": [
        "# Compute outer product of vectors\n",
        "v = np.array([1,2,3])  # v has shape (3,)\n",
        "w = np.array([4,5])    # w has shape (2,)\n",
        "# To compute an outer product, we first reshape v to be a column\n",
        "# vector of shape (3, 1); we can then broadcast it against w to yield\n",
        "# an output of shape (3, 2), which is the outer product of v and w:\n",
        "\n",
        "print(np.reshape(v, (3, 1)) * w)"
      ]
    },
    {
      "cell_type": "code",
      "execution_count": null,
      "metadata": {
        "id": "PgotmpcnL9jK"
      },
      "outputs": [],
      "source": [
        "# Add a vector to each row of a matrix\n",
        "x = np.array([[1,2,3], [4,5,6]])\n",
        "# x has shape (2, 3) and v has shape (3,) so they broadcast to (2, 3),\n",
        "# giving the following matrix:\n",
        "\n",
        "print(x + v)"
      ]
    },
    {
      "cell_type": "code",
      "execution_count": null,
      "metadata": {
        "id": "T5hKS1QaL9jK"
      },
      "outputs": [],
      "source": [
        "# Add a vector to each column of a matrix\n",
        "# x has shape (2, 3) and w has shape (2,).\n",
        "# If we transpose x then it has shape (3, 2) and can be broadcast\n",
        "# against w to yield a result of shape (3, 2); transposing this result\n",
        "# yields the final result of shape (2, 3) which is the matrix x with\n",
        "# the vector w added to each column. Gives the following matrix:\n",
        "\n",
        "print((x.T + w).T)"
      ]
    },
    {
      "cell_type": "code",
      "execution_count": null,
      "metadata": {
        "id": "JDUrZUl6L9jN"
      },
      "outputs": [],
      "source": [
        "# Another solution is to reshape w to be a row vector of shape (2, 1);\n",
        "# we can then broadcast it directly against x to produce the same\n",
        "# output.\n",
        "print(x + np.reshape(w, (2, 1)))"
      ]
    },
    {
      "cell_type": "code",
      "execution_count": null,
      "metadata": {
        "id": "VzrEo4KGL9jP"
      },
      "outputs": [],
      "source": [
        "# Multiply a matrix by a constant:\n",
        "# x has shape (2, 3). Numpy treats scalars as arrays of shape ();\n",
        "# these can be broadcast together to shape (2, 3), producing the\n",
        "# following array:\n",
        "print(x * 2)"
      ]
    },
    {
      "cell_type": "markdown",
      "metadata": {
        "id": "89e2FXxFL9jQ"
      },
      "source": [
        "Broadcasting typically makes your code more concise and faster, so you should strive to use it where possible."
      ]
    },
    {
      "cell_type": "markdown",
      "source": [
        "### Numpy documentation"
      ],
      "metadata": {
        "id": "yi90439hpLR0"
      }
    },
    {
      "cell_type": "markdown",
      "metadata": {
        "id": "iF3ZtwVNL9jQ"
      },
      "source": [
        "This brief overview has touched on many of the important things that you need to know about numpy, but is far from complete. Check out the [numpy reference](http://docs.scipy.org/doc/numpy/reference/) to find out much more about numpy."
      ]
    },
    {
      "cell_type": "markdown",
      "metadata": {
        "id": "tEINf4bEL9jR"
      },
      "source": [
        "##Matplotlib"
      ]
    },
    {
      "cell_type": "markdown",
      "metadata": {
        "id": "0hgVWLaXL9jR"
      },
      "source": [
        "Matplotlib is a plotting library. In this section give a brief introduction to the `matplotlib.pyplot` module, which provides a plotting system similar to that of MATLAB."
      ]
    },
    {
      "cell_type": "code",
      "execution_count": null,
      "metadata": {
        "id": "cmh_7c6KL9jR"
      },
      "outputs": [],
      "source": [
        "import matplotlib.pyplot as plt"
      ]
    },
    {
      "cell_type": "markdown",
      "metadata": {
        "id": "jOsaA5hGL9jS"
      },
      "source": [
        "By running this special iPython command, we will be displaying plots inline:"
      ]
    },
    {
      "cell_type": "code",
      "execution_count": null,
      "metadata": {
        "id": "ijpsmwGnL9jT"
      },
      "outputs": [],
      "source": [
        "%matplotlib inline"
      ]
    },
    {
      "cell_type": "markdown",
      "metadata": {
        "id": "U5Z_oMoLL9jV"
      },
      "source": [
        "###Plotting"
      ]
    },
    {
      "cell_type": "markdown",
      "metadata": {
        "id": "6QyFJ7dhL9jV"
      },
      "source": [
        "The most important function in `matplotlib` is plot, which allows you to plot 2D data. Here is a simple example:"
      ]
    },
    {
      "cell_type": "code",
      "execution_count": null,
      "metadata": {
        "id": "pua52BGeL9jW"
      },
      "outputs": [],
      "source": [
        "# Compute the x and y coordinates for points on a sine curve\n",
        "x = np.arange(0, 3 * np.pi, 0.1)\n",
        "y = np.sin(x)\n",
        "\n",
        "# Plot the points using matplotlib\n",
        "plt.plot(x, y)"
      ]
    },
    {
      "cell_type": "markdown",
      "metadata": {
        "id": "9W2VAcLiL9jX"
      },
      "source": [
        "With just a little bit of extra work we can easily plot multiple lines at once, and add a title, legend, and axis labels:"
      ]
    },
    {
      "cell_type": "code",
      "execution_count": null,
      "metadata": {
        "id": "TfCQHJ5AL9jY"
      },
      "outputs": [],
      "source": [
        "y_sin = np.sin(x)\n",
        "y_cos = np.cos(x)\n",
        "\n",
        "# Plot the points using matplotlib\n",
        "plt.plot(x, y_sin)\n",
        "plt.plot(x, y_cos)\n",
        "plt.xlabel('x axis label')\n",
        "plt.ylabel('y axis label')\n",
        "plt.title('Sine and Cosine')\n",
        "plt.legend(['Sine', 'Cosine'])"
      ]
    },
    {
      "cell_type": "markdown",
      "metadata": {
        "id": "R5IeAY03L9ja"
      },
      "source": [
        "###Subplots"
      ]
    },
    {
      "cell_type": "markdown",
      "metadata": {
        "id": "CfUzwJg0L9ja"
      },
      "source": [
        "You can plot different things in the same figure using the subplot function. Here is an example:"
      ]
    },
    {
      "cell_type": "code",
      "execution_count": null,
      "metadata": {
        "id": "dM23yGH9L9ja"
      },
      "outputs": [],
      "source": [
        "# Compute the x and y coordinates for points on sine and cosine curves\n",
        "x = np.arange(0, 3 * np.pi, 0.1)\n",
        "y_sin = np.sin(x)\n",
        "y_cos = np.cos(x)\n",
        "\n",
        "# Set up a subplot grid that has height 2 and width 1,\n",
        "# and set the first such subplot as active.\n",
        "plt.subplot(2, 1, 1)\n",
        "\n",
        "# Make the first plot\n",
        "plt.plot(x, y_sin)\n",
        "plt.title('Sine')\n",
        "\n",
        "# Set the second subplot as active, and make the second plot.\n",
        "plt.subplot(2, 1, 2)\n",
        "plt.plot(x, y_cos)\n",
        "plt.title('Cosine')\n",
        "\n",
        "# Show the figure.\n",
        "plt.show()"
      ]
    },
    {
      "cell_type": "markdown",
      "metadata": {
        "id": "gLtsST5SL9jc"
      },
      "source": [
        "You can read much more about the `subplot` function in the [documentation](http://matplotlib.org/api/pyplot_api.html#matplotlib.pyplot.subplot)."
      ]
    },
    {
      "cell_type": "markdown",
      "source": [
        "### Download images"
      ],
      "metadata": {
        "id": "7Zqndtogsq8J"
      }
    },
    {
      "cell_type": "markdown",
      "source": [
        "Lets download some images."
      ],
      "metadata": {
        "id": "4FFozuUm7OE5"
      }
    },
    {
      "cell_type": "code",
      "source": [
        "import os\n",
        "if not os.path.exists('images.zip'):\n",
        "  !wget --no-check-certificate https://empslocal.ex.ac.uk/people/staff/ad735/ECMM426/images.zip\n",
        "  !unzip -q images.zip"
      ],
      "metadata": {
        "id": "cOEqkMl47VTP"
      },
      "execution_count": null,
      "outputs": []
    },
    {
      "cell_type": "markdown",
      "source": [
        "You can use the `imread` and  the`imshow` function to respectively read and show images. Here is an example:"
      ],
      "metadata": {
        "id": "cjKpKTNYsxcF"
      }
    },
    {
      "cell_type": "code",
      "source": [
        "import numpy as np\n",
        "import matplotlib.pyplot as plt\n",
        "\n",
        "img = plt.imread('images/lena.png')\n",
        "img_tinted = img * [1, 0.85, 0.8]\n",
        "\n",
        "# Show the original image\n",
        "plt.subplot(1, 2, 1)\n",
        "plt.imshow(img)\n",
        "\n",
        "# Show the tinted image\n",
        "plt.subplot(1, 2, 2)\n",
        "plt.imshow(img_tinted)\n",
        "plt.show()"
      ],
      "metadata": {
        "id": "LEep7wnTs5Si"
      },
      "execution_count": null,
      "outputs": []
    },
    {
      "cell_type": "markdown",
      "source": [
        "## Scikit-learn"
      ],
      "metadata": {
        "id": "wOan27So8lpI"
      }
    },
    {
      "cell_type": "markdown",
      "source": [
        "[Scikit-learn](https://scikit-learn.org/stable/) is an open source machine learning library that supports supervised and unsupervised learning. It also provides various tools for model fitting, data preprocessing, model selection, model evaluation, and many other utilities."
      ],
      "metadata": {
        "id": "uSki-HDorHgE"
      }
    },
    {
      "cell_type": "markdown",
      "source": [
        "### Moon dataset\n",
        "Below we will consider a toy dataset, such as moon dataset and consider some classifiers from the Scikit-learn library to classify them."
      ],
      "metadata": {
        "id": "BOwTaL8x2QJ1"
      }
    },
    {
      "cell_type": "code",
      "source": [
        "# Create the moon dataset and plot\n",
        "from sklearn.datasets import make_moons\n",
        "\n",
        "X, y = make_moons(n_samples=500, noise=0.30, random_state=42)\n",
        "\n",
        "id0 = y == 0\n",
        "id1 = y == 1\n",
        "plt.plot(X[id0, 0], X[id0, 1], 'bo', label='0')\n",
        "plt.plot(X[id1, 0], X[id1, 1], 'ro', label='1')\n",
        "plt.legend(loc=2)"
      ],
      "metadata": {
        "id": "-wudgYDp1xO_"
      },
      "execution_count": null,
      "outputs": []
    },
    {
      "cell_type": "markdown",
      "source": [
        "### Dataset split"
      ],
      "metadata": {
        "id": "XbIu90Rg2TvB"
      }
    },
    {
      "cell_type": "code",
      "source": [
        "# Split into train and test sets\n",
        "from sklearn.model_selection import train_test_split\n",
        "X_train, X_test, y_train, y_test = train_test_split(X, y, random_state=42)"
      ],
      "metadata": {
        "id": "QVDMPmL62EIr"
      },
      "execution_count": null,
      "outputs": []
    },
    {
      "cell_type": "markdown",
      "source": [
        "### Random forest classifier\n",
        "Lets now train a random forest classifier from the scikit-learn library on the above training set and test it on the test set, and the compute the classification accuracy. Please check the [documentation](https://scikit-learn.org/stable/modules/generated/sklearn.ensemble.RandomForestClassifier.html#sklearn-ensemble-randomforestclassifier) of `RandomForestClassifier` for more details on its parameters."
      ],
      "metadata": {
        "id": "uZNqoqgW31rp"
      }
    },
    {
      "cell_type": "code",
      "source": [
        "from sklearn.ensemble import RandomForestClassifier\n",
        "# Define the classifier\n",
        "rnd_clf = RandomForestClassifier(n_estimators=500, max_leaf_nodes=16, n_jobs=-1, random_state=42)\n",
        "# Training\n",
        "rnd_clf.fit(X_train, y_train)\n",
        "# Test\n",
        "y_pred_rf = rnd_clf.predict(X_test)\n",
        "# Classification accuracy\n",
        "from sklearn.metrics import accuracy_score\n",
        "print(accuracy_score(y_test, y_pred_rf))"
      ],
      "metadata": {
        "id": "RC8sl3QE5BjD"
      },
      "execution_count": null,
      "outputs": []
    },
    {
      "cell_type": "markdown",
      "source": [
        "### Non-linear Support Vector Machine\n",
        "Now lets do the same training and testing with a non-linear [Support Vector Machine (SVM)](https://scikit-learn.org/stable/modules/generated/sklearn.svm.SVC.html) classifier."
      ],
      "metadata": {
        "id": "T8JLXEV97i8c"
      }
    },
    {
      "cell_type": "code",
      "source": [
        "from sklearn.svm import SVC\n",
        "# Define the non-linear classifier with radial basis function (rbf) kernel\n",
        "nlin_svm_clf_1 = SVC(kernel=\"rbf\")\n",
        "# Training\n",
        "nlin_svm_clf_1.fit(X_train, y_train)\n",
        "# Test\n",
        "y_pred = nlin_svm_clf_1.predict(X_test)\n",
        "# Classification accuracy\n",
        "from sklearn.metrics import accuracy_score\n",
        "print(accuracy_score(y_pred, y_test))"
      ],
      "metadata": {
        "id": "av46bVVs8w08"
      },
      "execution_count": null,
      "outputs": []
    },
    {
      "cell_type": "markdown",
      "source": [
        "### Confusion matrix\n",
        "A confusion matrix is a table that is used to define the performance of a classification algorithm. A confusion matrix visualizes and summarizes the performance of a classification algorithm. More details on how to compute confusion matrix can be found in the [documentation](https://scikit-learn.org/stable/modules/generated/sklearn.metrics.confusion_matrix.html)."
      ],
      "metadata": {
        "id": "74nKsfA99pkb"
      }
    },
    {
      "cell_type": "code",
      "source": [
        "from sklearn.metrics import confusion_matrix\n",
        "confusion_matrix(y_test, y_pred)"
      ],
      "metadata": {
        "id": "aB73WGra-aEF"
      },
      "execution_count": null,
      "outputs": []
    },
    {
      "cell_type": "markdown",
      "source": [
        "### Regression\n",
        "\n",
        "Now, lets consider the following function and train an [MLP regressor](https://scikit-learn.org/stable/modules/generated/sklearn.neural_network.MLPRegressor.html) to learn it.\n",
        "\n",
        "\\begin{equation}\n",
        "y = f(x; \\mathbf{w}) = 5x^2 + 3\n",
        "\\end{equation}"
      ],
      "metadata": {
        "id": "Wp2DsEemAOub"
      }
    },
    {
      "cell_type": "code",
      "source": [
        "# Create the data that follow uniform distribution\n",
        "import numpy as np\n",
        "import matplotlib.pyplot as plt\n",
        "X = np.random.uniform(-100, 100, 1000)\n",
        "y = 5*(X*X) + 3\n",
        "plt.scatter(X, y, s=10);"
      ],
      "metadata": {
        "id": "C5Dzr0MLA3h8"
      },
      "execution_count": null,
      "outputs": []
    },
    {
      "cell_type": "code",
      "source": [
        "# Split the dataset into train and test sets\n",
        "from sklearn.model_selection import train_test_split\n",
        "X_train, X_test, y_train, y_test = train_test_split(X, y, random_state=42)"
      ],
      "metadata": {
        "id": "Lr2qn7zxCKcK"
      },
      "execution_count": null,
      "outputs": []
    },
    {
      "cell_type": "code",
      "source": [
        "from sklearn.neural_network import MLPRegressor\n",
        "# Define an MLPRegressor\n",
        "regr = MLPRegressor(hidden_layer_sizes=(10,), solver='lbfgs', activation='relu', max_iter=10000)\n",
        "# Fit on the training data\n",
        "regr = regr.fit(X_train.reshape(-1, 1), y_train)\n",
        "# Predict using the multi-layer perceptron model\n",
        "y_pred = regr.predict(X_test.reshape(-1, 1))\n",
        "# Return the coefficient of determination of the prediction. The best score can be 1.\n",
        "regr.score(X_test.reshape(-1, 1), y_test)"
      ],
      "metadata": {
        "id": "UXpmCrg0CbeA"
      },
      "execution_count": null,
      "outputs": []
    },
    {
      "cell_type": "markdown",
      "source": [
        "## OpenCV"
      ],
      "metadata": {
        "id": "vxAwaKWhq6z5"
      }
    },
    {
      "cell_type": "markdown",
      "source": [
        "OpenCV is a library providing implementation of multitude of algorithms related to image processing, computer vision and machine learning. In this section, we will learn different image processing functions from the OpenCV library. For more details on OpenCV, please see the [OpenCV website](https://opencv.org/)."
      ],
      "metadata": {
        "id": "7S04s4KFz3EO"
      }
    },
    {
      "cell_type": "markdown",
      "source": [
        "### Data structures\n",
        "\n",
        "Colour images usually have three channels: red, green and blue and these channels are usually arranged in a certain order. Depending on this arrangement the image is termed in a certain way. For example, if the channels in an image are ordered in red (R), green (G) and blue (B), the image is called as RGB image. In OpenCV an image can be read by `cv2.imread()` function."
      ],
      "metadata": {
        "id": "oTcZ703E2Zxh"
      }
    },
    {
      "cell_type": "code",
      "source": [
        "# read an image\n",
        "import cv2\n",
        "img = cv2.imread('images/lena.png')\n",
        "\n",
        "# show image format (basically a 3-d array of pixel colour info, in BGR format)\n",
        "print('Image shape: {}'.format(img.shape))\n",
        "print('Image: {}'.format(img))"
      ],
      "metadata": {
        "id": "W_6NRQ762_fP"
      },
      "execution_count": null,
      "outputs": []
    },
    {
      "cell_type": "markdown",
      "metadata": {
        "id": "aZPEVuGh_p8V",
        "pycharm": {}
      },
      "source": [
        "### Colour conversions\n",
        "By default, OpenCV loads images in BGR format. This is why the famous image of Lena looks a bit weird. **Note:** we will use imshow function from Matplotlib to display the image."
      ]
    },
    {
      "cell_type": "code",
      "metadata": {
        "id": "uPBA122WEzXM",
        "pycharm": {}
      },
      "source": [
        "# show image with matplotlib\n",
        "import matplotlib.pyplot as plt\n",
        "plt.imshow(img)"
      ],
      "execution_count": null,
      "outputs": []
    },
    {
      "cell_type": "markdown",
      "source": [
        "In OpenCV, a BGR image can be converted to an RGB image by the `cv2.cvtColor()` function as follows"
      ],
      "metadata": {
        "collapsed": false,
        "id": "T89Km6qqQs3t"
      }
    },
    {
      "cell_type": "code",
      "metadata": {
        "id": "_kIGhwKc_p8V",
        "scrolled": true,
        "pycharm": {}
      },
      "source": [
        "# convert image to RGB colour space\n",
        "img = cv2.cvtColor(img, cv2.COLOR_BGR2RGB)\n",
        "\n",
        "# show image with matplotlib\n",
        "plt.imshow(img)"
      ],
      "execution_count": null,
      "outputs": []
    },
    {
      "cell_type": "markdown",
      "source": [
        "In a similar way, a BGR image can also be converted to grayscale image which has only a single channel. Converting an RGB image into a grayscale image involves summing up the individual (RGB) components with the weights (0.299, 0.587, 0.114). The OpenCV function `cv2.cvtColor()` can also be used to convert an RGB image into a grayscale image."
      ],
      "metadata": {
        "collapsed": false,
        "id": "8WYalGWXQs3u"
      }
    },
    {
      "cell_type": "code",
      "metadata": {
        "id": "vpS6RcOV_p8Y",
        "pycharm": {}
      },
      "source": [
        "# convert image to grayscale\n",
        "gray_img = cv2.cvtColor(img, cv2.COLOR_RGB2GRAY)\n",
        "\n",
        "print('Image shape: {}'.format(gray_img.shape))\n",
        "# grayscale image represented as a 2-d array\n",
        "print(gray_img)"
      ],
      "execution_count": null,
      "outputs": []
    },
    {
      "cell_type": "markdown",
      "metadata": {
        "id": "E1yoDp2hCihi",
        "pycharm": {}
      },
      "source": [
        "Gray images have single channel"
      ]
    },
    {
      "cell_type": "code",
      "metadata": {
        "id": "z2-K1pOh_p8a",
        "pycharm": {}
      },
      "source": [
        "# plot the gray image, note the cmap parameter\n",
        "plt.imshow(gray_img, cmap='gray')"
      ],
      "execution_count": null,
      "outputs": []
    },
    {
      "cell_type": "markdown",
      "source": [
        "Colour to grayscale is a lossy conversion. However, in OpenCV a grayscale image can approximately be converted to a colour image using the `cv2.applyColorMap()` function according to the colour maps described at this [link](https://docs.opencv.org/4.x/d3/d50/group__imgproc__colormap.html)."
      ],
      "metadata": {
        "collapsed": false,
        "id": "B_EOqF8qQs3v"
      }
    },
    {
      "cell_type": "code",
      "metadata": {
        "id": "eOs27PQFSYrn",
        "pycharm": {}
      },
      "source": [
        "gray_img_col = cv2.applyColorMap(gray_img, cv2.COLORMAP_JET)\n",
        "plt.imshow(gray_img_col)"
      ],
      "execution_count": null,
      "outputs": []
    },
    {
      "cell_type": "markdown",
      "source": [
        "### Conversion from `uint8` to `float64` (`double`) and Normalization"
      ],
      "metadata": {
        "collapsed": false,
        "id": "cE_h8sgbQs3w"
      }
    },
    {
      "cell_type": "code",
      "source": [
        "img_dble = cv2.normalize(img.astype('float64'), None, 0.0, 1.0, cv2.NORM_MINMAX)\n",
        "print(img_dble)"
      ],
      "metadata": {
        "pycharm": {
          "name": "#%%\n"
        },
        "id": "-6aepcnKQs3w"
      },
      "execution_count": null,
      "outputs": []
    },
    {
      "cell_type": "code",
      "source": [
        "plt.imshow(img_dble)"
      ],
      "metadata": {
        "id": "tOh1DQ5s5Iyg"
      },
      "execution_count": null,
      "outputs": []
    },
    {
      "cell_type": "markdown",
      "source": [
        "### Image processing\n",
        "Below we will review some brief image processing tasks, such as image filtering, binarization, edge detection etc with OpenCV."
      ],
      "metadata": {
        "id": "PxNoVeWkwqDF"
      }
    },
    {
      "cell_type": "markdown",
      "source": [
        "#### Box Filtering"
      ],
      "metadata": {
        "id": "iIt6E6uC5aMS"
      }
    },
    {
      "cell_type": "markdown",
      "metadata": {
        "id": "dAvdTtHeKQJJ",
        "pycharm": {}
      },
      "source": [
        "In this filtering, each pixel value in an image is replaced by the weighted average of the neighborhood (defined by the filter mask) intensity values. The most commonly used filter is the Box filter which has equal weights. A 3×3 normalized box filter is shown below\n",
        "\n",
        "![box filter](https://i2.wp.com/theailearner.com/wp-content/uploads/2019/05/filter1.png?w=454&ssl=1)\n",
        "\n",
        "It is a good practice to normalize the filter, this is why the above filter is divided by 9. This is to make sure that the image does not get brighter or darker. You can also use an unnormalized box filter.\n",
        "\n",
        "OpenCV provides two inbuilt functions for averaging namely:\n",
        "\n",
        "* `cv2.blur()` that blurs an image using only the normalized box filter and\n",
        "* `cv2.boxFilter()` which is more general, having the option of using either normalized or unnormalized box filter. Just pass an argument normalize=False to the function"
      ]
    },
    {
      "cell_type": "code",
      "metadata": {
        "id": "HVb5aZSNLaGK",
        "pycharm": {}
      },
      "source": [
        "img = cv2.cvtColor(cv2.imread('images/books.jpg'), cv2.COLOR_BGR2RGB)\n",
        "plt.imshow(img)"
      ],
      "execution_count": null,
      "outputs": []
    },
    {
      "cell_type": "code",
      "metadata": {
        "id": "gS2OY6czd2oX",
        "pycharm": {}
      },
      "source": [
        "gray_img = cv2.cvtColor(img, cv2.COLOR_RGB2GRAY)\n",
        "blur_img = cv2.blur(gray_img, (10, 10))\n",
        "plt.subplot(1, 2, 1); plt.imshow(gray_img, cmap='gray')\n",
        "plt.subplot(1, 2, 2); plt.imshow(blur_img, cmap='gray')"
      ],
      "execution_count": null,
      "outputs": []
    },
    {
      "cell_type": "markdown",
      "source": [
        "#### Gaussian Filtering"
      ],
      "metadata": {
        "id": "tOqyh7ZD5nW0"
      }
    },
    {
      "cell_type": "markdown",
      "metadata": {
        "id": "EhoKd7Is_p8y",
        "pycharm": {}
      },
      "source": [
        "In Gaussian filtering, instead of a box filter, a Gaussian kernel is used. In OpenCV, it is done with the function, `cv2.GaussianBlur()`. We should specify the width and height of the kernel which should be positive and odd. We also should specify the standard deviation in the X and Y directions, sigmaX and sigmaY respectively. If only sigmaX is specified, sigmaY is taken as the same as sigmaX. If both are given as zeros, they are calculated from the kernel size. Gaussian blurring is highly effective in removing Gaussian noise from an image."
      ]
    },
    {
      "cell_type": "code",
      "metadata": {
        "id": "R2qNZNzB_p8z",
        "pycharm": {}
      },
      "source": [
        "img = cv2.cvtColor(cv2.imread('images/oy.jpg'), cv2.COLOR_BGR2RGB)\n",
        "plt.imshow(img)"
      ],
      "execution_count": null,
      "outputs": []
    },
    {
      "cell_type": "code",
      "metadata": {
        "id": "FcEcRBhT_p81",
        "pycharm": {}
      },
      "source": [
        "# preproccess with blurring, with 5x5 kernel (note kernel size should be odd)\n",
        "img_blur_small = cv2.GaussianBlur(img, (5, 5), 0)\n",
        "plt.imshow(img_blur_small)"
      ],
      "execution_count": null,
      "outputs": []
    },
    {
      "cell_type": "code",
      "metadata": {
        "id": "GcpJwBNU_p83",
        "pycharm": {}
      },
      "source": [
        "img_blur_small = cv2.GaussianBlur(img, (5, 5), 25)\n",
        "plt.imshow(img_blur_small)"
      ],
      "execution_count": null,
      "outputs": []
    },
    {
      "cell_type": "code",
      "metadata": {
        "id": "GW_zbFBx_p85",
        "pycharm": {}
      },
      "source": [
        "img_blur_large = cv2.GaussianBlur(img, (15,15), 0)\n",
        "plt.imshow(img_blur_large)"
      ],
      "execution_count": null,
      "outputs": []
    },
    {
      "cell_type": "markdown",
      "source": [
        "#### Median Filtering"
      ],
      "metadata": {
        "id": "knYfkspQ5y0F"
      }
    },
    {
      "cell_type": "markdown",
      "metadata": {
        "id": "rFRJL4v1O7kt",
        "pycharm": {}
      },
      "source": [
        "This is a non-linear filtering technique. As clear from the name, this takes a median of all the pixels under the kernel area and replaces the central element with this median value. This is quite effective in reducing a certain type of noise (like salt-and-pepper noise) with considerably less edge blurring as compared to other linear filters of the same size. First create the function for creating noisy images with \"salt and pepper\" noise."
      ]
    },
    {
      "cell_type": "code",
      "metadata": {
        "id": "dqMvcYl3u_S8",
        "pycharm": {}
      },
      "source": [
        "def add_sp_noise(image, amount=0.1):\n",
        "    row, col, ch = image.shape\n",
        "    s_vs_p = 0.5\n",
        "    out = np.copy(image)\n",
        "    # Salt mode\n",
        "    num_salt = np.ceil(amount * image.size * s_vs_p)\n",
        "    coords = [np.random.randint(0, i - 1, int(num_salt))\n",
        "            for i in image.shape]\n",
        "    out[coords[0], coords[1], coords[2]] = 1\n",
        "\n",
        "    # Pepper mode\n",
        "    num_pepper = np.ceil(amount* image.size * (1. - s_vs_p))\n",
        "    coords = [np.random.randint(0, i - 1, int(num_pepper))\n",
        "            for i in image.shape]\n",
        "    out[coords[0], coords[1], coords[2]] = 0\n",
        "    return out"
      ],
      "execution_count": null,
      "outputs": []
    },
    {
      "cell_type": "markdown",
      "metadata": {
        "id": "NBNSgJgfDgqv",
        "pycharm": {}
      },
      "source": [
        "Load an image and apply \"salt and pepper\" noise and then try to smooth it with Gaussian and Median filter"
      ]
    },
    {
      "cell_type": "code",
      "metadata": {
        "id": "ea2GEwfFQLR1",
        "pycharm": {
          "is_executing": true
        }
      },
      "source": [
        "img = cv2.cvtColor(cv2.imread('images/coins.jpg'), cv2.COLOR_BGR2RGB)\n",
        "noisy_img = add_sp_noise(img, amount=0.1)\n",
        "img_gaus = cv2.GaussianBlur(noisy_img, (5, 5), 3)\n",
        "img_med = cv2.medianBlur(noisy_img, 5)\n",
        "plt.subplot(1, 4, 1); plt.imshow(img); plt.title('Original')\n",
        "plt.subplot(1, 4, 2); plt.imshow(noisy_img); plt.title('Salt & Pepper Noise')\n",
        "plt.subplot(1, 4, 3); plt.imshow(img_gaus); plt.title('Gaussian Filtered')\n",
        "plt.subplot(1, 4, 4); plt.imshow(img_med); plt.title('Median Filtered')"
      ],
      "execution_count": null,
      "outputs": []
    },
    {
      "cell_type": "markdown",
      "source": [
        "#### Edge Detection"
      ],
      "metadata": {
        "id": "jBSFKfNp58ka"
      }
    },
    {
      "cell_type": "markdown",
      "metadata": {
        "id": "XxeFuSii_p9N",
        "pycharm": {}
      },
      "source": [
        "Edge detection is an image processing technique for finding the boundaries of objects within images. It works by detecting discontinuities in brightness, colour, surface etc. Edge detection is used for image segmentation and data extraction in areas such as image processing, computer vision, and machine vision. OpenCV provides the `cv2.Canny()` function to compute edges in an image."
      ]
    },
    {
      "cell_type": "code",
      "metadata": {
        "id": "-utaqZp5SDP7",
        "pycharm": {}
      },
      "source": [
        "cups = cv2.cvtColor(cv2.imread('images/cups.jpg'), cv2.COLOR_BGR2RGB)\n",
        "plt.imshow(cups)"
      ],
      "execution_count": null,
      "outputs": []
    },
    {
      "cell_type": "code",
      "metadata": {
        "id": "7Ko1a2jmSM-M",
        "pycharm": {}
      },
      "source": [
        "# preprocess by blurring and grayscale\n",
        "cups_preprocessed  = cv2.cvtColor(cv2.GaussianBlur(cups, (7,7), 0), cv2.COLOR_RGB2GRAY)"
      ],
      "execution_count": null,
      "outputs": []
    },
    {
      "cell_type": "code",
      "metadata": {
        "id": "a8-A44piSmwd",
        "pycharm": {}
      },
      "source": [
        "# find binary image with thresholding\n",
        "low_thresh = 120\n",
        "high_thresh = 200\n",
        "_, cups_thresh = cv2.threshold(cups_preprocessed, low_thresh, 255, cv2.THRESH_BINARY)\n",
        "plt.imshow(cv2.cvtColor(cups_thresh, cv2.COLOR_GRAY2RGB))\n",
        "\n",
        "_, cups_thresh_hi = cv2.threshold(cups_preprocessed, high_thresh, 255, cv2.THRESH_BINARY)"
      ],
      "execution_count": null,
      "outputs": []
    },
    {
      "cell_type": "code",
      "metadata": {
        "id": "lVNkDIgDRuci",
        "pycharm": {}
      },
      "source": [
        "# find binary image with edges\n",
        "cups_edges = cv2.Canny(cups_preprocessed, threshold1=90, threshold2=110)\n",
        "plt.imshow(cv2.cvtColor(cups_edges, cv2.COLOR_GRAY2RGB))"
      ],
      "execution_count": null,
      "outputs": []
    },
    {
      "cell_type": "markdown",
      "source": [
        "## SciPy"
      ],
      "metadata": {
        "id": "-XOcVQ4hqP4R"
      }
    },
    {
      "cell_type": "markdown",
      "source": [
        "Numpy provides a high-performance multidimensional array and basic tools to compute with and manipulate these arrays. [SciPy](http://docs.scipy.org/doc/scipy/reference/) builds on this, and provides a large number of functions that operate on numpy arrays and are useful for different types of scientific and engineering applications. The best way to get familiar with SciPy is to [browse the documentation](https://docs.scipy.org/doc/scipy/reference/index.html). SciPy provides important functionalities for reading and writing MATLAB files, which show below.\n",
        "\n",
        "\n"
      ],
      "metadata": {
        "id": "tAWDvNu5qn4b"
      }
    },
    {
      "cell_type": "markdown",
      "source": [
        "###MATLAB files"
      ],
      "metadata": {
        "id": "ajs-UbqSrWk0"
      }
    },
    {
      "cell_type": "markdown",
      "source": [
        "The functions `scipy.io.loadmat` and `scipy.io.savemat` allow you to respectively read and write MATLAB files. You can read about them [in the documentation](http://docs.scipy.org/doc/scipy/reference/io.html)."
      ],
      "metadata": {
        "id": "HoT2zazhrZ5m"
      }
    },
    {
      "cell_type": "markdown",
      "source": [
        "###Distance between points"
      ],
      "metadata": {
        "id": "iMtaY6Bzr7-w"
      }
    },
    {
      "cell_type": "markdown",
      "source": [
        "SciPy defines some useful functions for computing distances between sets of points.\n",
        "\n",
        "The function `scipy.spatial.distance.pdist` computes the distance between all pairs of points in a given set:"
      ],
      "metadata": {
        "id": "1tq9Mtwkr_s0"
      }
    },
    {
      "cell_type": "code",
      "source": [
        "import numpy as np\n",
        "from scipy.spatial.distance import pdist, squareform\n",
        "\n",
        "# Create the following array where each row is a point in 2D space:\n",
        "# [[0 1]\n",
        "#  [1 0]\n",
        "#  [2 0]]\n",
        "x = np.array([[0, 1], [1, 0], [2, 0]])\n",
        "print(x)\n",
        "\n",
        "# Compute the Euclidean distance between all rows of x.\n",
        "# d[i, j] is the Euclidean distance between x[i, :] and x[j, :],\n",
        "# and d is the following array:\n",
        "# [[ 0.          1.41421356  2.23606798]\n",
        "#  [ 1.41421356  0.          1.        ]\n",
        "#  [ 2.23606798  1.          0.        ]]\n",
        "d = squareform(pdist(x, 'euclidean'))\n",
        "print(d)"
      ],
      "metadata": {
        "id": "EwlHRO0jsJBI"
      },
      "execution_count": null,
      "outputs": []
    },
    {
      "cell_type": "markdown",
      "source": [
        "A similar function (`scipy.spatial.distance.cdist`) computes the distance between all pairs across two sets of points; you can read about it [in the documentation](https://docs.scipy.org/doc/scipy/reference/generated/scipy.spatial.distance.cdist.html)."
      ],
      "metadata": {
        "id": "dzYk_QSfsSXO"
      }
    },
    {
      "cell_type": "markdown",
      "source": [
        "#### Acknowledgement\n",
        "This tutorial was originally written by [Justin Johnson](https://web.eecs.umich.edu/~justincj/) for CS231n at the Stanford University. This version has been adapted and modified by [Anjan Dutta](https://www.surrey.ac.uk/people/anjan-dutta) for the Spring 2023 edition of [EEEM068](https://catalogue.surrey.ac.uk/2022-3/module/EEEM068) module at the University of Surrey."
      ],
      "metadata": {
        "id": "d3XD7jVkU9Z3"
      }
    }
  ],
  "metadata": {
    "colab": {
      "name": "colab-tutorial.ipynb",
      "provenance": []
    },
    "kernelspec": {
      "display_name": "Python 3",
      "language": "python",
      "name": "python3"
    },
    "language_info": {
      "codemirror_mode": {
        "name": "ipython",
        "version": 3
      },
      "file_extension": ".py",
      "mimetype": "text/x-python",
      "name": "python",
      "nbconvert_exporter": "python",
      "pygments_lexer": "ipython3",
      "version": "3.7.6"
    }
  },
  "nbformat": 4,
  "nbformat_minor": 0
}